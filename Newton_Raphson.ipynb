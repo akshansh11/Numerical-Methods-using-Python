{
  "nbformat": 4,
  "nbformat_minor": 0,
  "metadata": {
    "colab": {
      "provenance": []
    },
    "kernelspec": {
      "name": "python3",
      "display_name": "Python 3"
    },
    "language_info": {
      "name": "python"
    }
  },
  "cells": [
    {
      "cell_type": "code",
      "execution_count": 2,
      "metadata": {
        "colab": {
          "base_uri": "https://localhost:8080/"
        },
        "id": "Wli-PolPOgCQ",
        "outputId": "23c44247-21b5-4afb-f5cc-6e4fd326e7ca"
      },
      "outputs": [
        {
          "output_type": "stream",
          "name": "stdout",
          "text": [
            "Root = 2.000061036087587\n"
          ]
        }
      ],
      "source": [
        "\n",
        "#newton raphson algorithm \n",
        "def newton_raphson(f, df, x, e): \n",
        "    delta = f(x) / df(x) \n",
        "    while abs(delta) > e: \n",
        "        x = x - delta \n",
        "        delta = f(x) / df(x) \n",
        "    return x \n",
        "\n",
        "#function to find the root \n",
        "def f(x): \n",
        "    return x**2 - 4 \n",
        "\n",
        "#derivative of the function \n",
        "def df(x): \n",
        "    return 2*x \n",
        "\n",
        "#initial values \n",
        "x0 = 6\n",
        "e = 0.01\n",
        "\n",
        "#find the root \n",
        "root = newton_raphson(f, df, x0, e) \n",
        "\n",
        "#print the root \n",
        "print(\"Root =\", root)"
      ]
    }
  ]
}